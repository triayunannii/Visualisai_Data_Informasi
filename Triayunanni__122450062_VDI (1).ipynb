{
  "nbformat": 4,
  "nbformat_minor": 0,
  "metadata": {
    "colab": {
      "provenance": []
    },
    "kernelspec": {
      "name": "python3",
      "display_name": "Python 3"
    },
    "language_info": {
      "name": "python"
    }
  },
  "cells": [
    {
      "cell_type": "markdown",
      "source": [
        "# **Tugas 1 Visualisasi Data dan Informasi**"
      ],
      "metadata": {
        "id": "ae8oSimFQcBB"
      }
    },
    {
      "cell_type": "markdown",
      "source": [
        "\n",
        "\n",
        "\n",
        "\n",
        "\n",
        "```\n",
        "Judul Artikel     = Making data visualization more efficient and effective: a survey\n",
        "Jurnal            = The VLDB Journal\n",
        "Penulis           = Xuedi Qin, Yuyu Luo & Guoliang Li\n",
        "Peninjau          = Tria Yunanni (122450062)\n",
        "kelas             = RB\n",
        "\n",
        "```\n",
        "\n",
        "\n",
        "\n",
        "\n"
      ],
      "metadata": {
        "id": "-xg-LobkQjmR"
      }
    },
    {
      "cell_type": "markdown",
      "source": [
        "# **Abstrak**\n",
        "\n"
      ],
      "metadata": {
        "id": "1SNrFremTg6V"
      }
    },
    {
      "cell_type": "markdown",
      "source": [
        "Visualisasi data sangat penting dalam dunia bisnis yang  berbasis data. Dan untuk memenuhi tingginya permintaan pemrosesan data terkait volume, kecepatan, dan kebenaran data, terdapat kebutuhan mendesak akan database untuk membantu melakukan visualisasi data yang efisien dan efektif. Artikel ini membahas teknik-teknik yang membuat visualisasi data menjadi lebih efisien dan efektif, meliputi spesifikasi visualisasi, pendekatan efisien untuk proses visualisasi, dan rekomendasi visualisasi."
      ],
      "metadata": {
        "id": "7G_6gwpYjZry"
      }
    },
    {
      "cell_type": "markdown",
      "source": [
        "# **Metode**"
      ],
      "metadata": {
        "id": "WHzDMPHNmpHM"
      }
    },
    {
      "cell_type": "markdown",
      "source": [
        "Dalam artikel ini metode yang diterapkan adalah metode survey Literatur. Artikel ini membahas berbagai teknik dan pendekatan yang ada dalam literatur terkait visualisasi data agar lebih efisien dan efektif\n"
      ],
      "metadata": {
        "id": "v9BIsl7toD2O"
      }
    },
    {
      "cell_type": "markdown",
      "source": [
        "# **Kelebihan**"
      ],
      "metadata": {
        "id": "2HYASOaukRKf"
      }
    },
    {
      "cell_type": "markdown",
      "source": [
        "\n",
        "1. Cakupan Komprehensif : Survei mencakup berbagai teknik dari berbagai komunitas (grafik komputer, visualisasi, dan basis data), memberikan pandangan holistik tentang visualisasi data.\n",
        "\n",
        "2. Pendekatan Terstruktur : Kategorisasi bahasa visualisasi dan metode untuk visualisasi data yang efisien terstruktur dengan baik dan mudah diikuti. Penggunaan gambar (seperti alur visualisasi data) membantu pembaca memahami alur kerja dan tahapan yang terlibat dalam pembuatan visualisasi.\n",
        "\n",
        "3. Analisis Mendalam : Artikel ini membahas detail teknis berbagai metode dan alat, seperti berbagai jenis bahasa visualisasi (tingkat rendah, tingkat tinggi), alat berbasis GUI, visualisasi data perkiraan, dan visualisasi data progresif. Kedalaman ini berharga bagi para peneliti dan praktisi yang tertarik untuk memahami nuansa teknik visualisasi data."
      ],
      "metadata": {
        "id": "g6lmrR7AkW7c"
      }
    },
    {
      "cell_type": "markdown",
      "source": [
        "# **Kekurangan**"
      ],
      "metadata": {
        "id": "NK3aW5chlio-"
      }
    },
    {
      "cell_type": "markdown",
      "source": [
        "1. penggunaan kata yang sangat sulit.\n",
        "2. Terlalu banyak yang dibahas, sehingga topik kurang spesifik\n",
        "3. kurangnya saran pasti tenang tools atau bahasa mana yang paling tepat atau memiliki fitur paling baik.\n"
      ],
      "metadata": {
        "id": "dDQ3id7IpOWD"
      }
    },
    {
      "cell_type": "markdown",
      "source": [
        "# **Kesimpulan**"
      ],
      "metadata": {
        "id": "ppUmwY7yqjMZ"
      }
    },
    {
      "cell_type": "markdown",
      "source": [
        "secara umum, survei ini dapat menjadi sumber yang menarik untuk siapa saja yang tertarik dengan visualisasi data, khususnya bagi mereka yang ingin memahami berbagai teknik untuk membuat visualisasi menjadi lebih efisien dan efektif. Artikel ini diteliti dengan baik, terperinci, dan memberikan dasar yang kuat untuk melakukan eksplorasi dan penelitian lebih lanjut di bidang visualisasi data. Akan tetapi, artikel ini akan lebih baik lagi jika dilengkapi dengan pembahasan yang lebih praktis mengenai perkembangan di masa depan."
      ],
      "metadata": {
        "id": "x2ZePM5isXuG"
      }
    }
  ]
}